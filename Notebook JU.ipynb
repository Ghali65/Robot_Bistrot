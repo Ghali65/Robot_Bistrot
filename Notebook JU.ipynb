{
 "cells": [
  {
   "cell_type": "code",
   "metadata": {
    "ExecuteTime": {
     "end_time": "2025-01-31T15:38:44.882733Z",
     "start_time": "2025-01-31T15:38:43.965724Z"
    }
   },
   "source": [
    "import requests\n",
    "import pandas as pd\n",
    "from sqlalchemy import create_engine\n",
    "from sqlalchemy import text\n",
    "from Robot_Bistrot.gepetto import Robot_bistro"
   ],
   "outputs": [],
   "execution_count": 47
  },
  {
   "cell_type": "code",
   "metadata": {
    "ExecuteTime": {
     "end_time": "2025-01-31T15:17:47.878963Z",
     "start_time": "2025-01-31T15:17:47.424394Z"
    }
   },
   "source": [
    "# Clé API Google Places\n",
    "with open('apikeyrm.txt', 'r') as file: #mettre clé api\n",
    "    API_KEY = file.read().strip()\n",
    "\n",
    "RADIUS = 5000  # en mètres\n",
    "QUERY = 'pizza budget 10 euros toulouse capitole'\n",
    "\n",
    "\n",
    "url = f\"https://maps.googleapis.com/maps/api/place/textsearch/json?query={QUERY}&key={API_KEY}&maxResults=10\"\n",
    "\n",
    "response = requests.get(url)\n",
    "data = response.json()\n",
    "\n",
    "\n",
    "nb_result = 10\n",
    "\n",
    "#Utilisation de compréhension de dictionnaire pour créer le dictionnaire\n",
    "dict_adresses = {\n",
    "    'restaurant_id' : [result['name'] + str(result['geometry']['location']['lat']) for result in data['results'][:nb_result]],\n",
    "    'name' : [result['name'] for result in data['results'][:nb_result]],\n",
    "    'formatted_address': [result['formatted_address'] for result in data['results'][:nb_result]],\n",
    "    'lat': [result['geometry']['location']['lat'] for result in data['results'][:nb_result]],\n",
    "    'lng' : [result['geometry']['location']['lng'] for result in data['results'][:nb_result]],\n",
    "    'photo_reference' : [result['photos'][0]['photo_reference'] for result in data['results'][:nb_result]],\n",
    "    'rating': [result['rating'] for result in data['results'][:nb_result]],\n",
    "    'user_ratings_total' : [result['user_ratings_total'] for result in data['results'][:nb_result]],\n",
    "    'types': [result['types'] for result in data['results'][:nb_result]]\n",
    "}\n",
    "\n",
    "#Affichage du dictionnaire pour vérification\n",
    "print(dict_adresses)"
   ],
   "outputs": [
    {
     "name": "stdout",
     "output_type": "stream",
     "text": [
      "{'restaurant_id': ['PL Pizza Léo43.6075228', \"La Grand' Pizzeria43.6048929\", 'Pizza Lopez CARMES43.5977082', 'Bar Pizzeria Osteria Le Bellini43.6039846', 'Pizza Cap Carmes43.5964068', 'Mazzolina Pizzeria et Restaurant43.6045329', 'La Pastasciutta43.6062834', 'Marcello Saint-Pierre43.6040015', 'Toto Bello Pizzas43.6024277', 'PIZZA CAP43.6062683'], 'name': ['PL Pizza Léo', \"La Grand' Pizzeria\", 'Pizza Lopez CARMES', 'Bar Pizzeria Osteria Le Bellini', 'Pizza Cap Carmes', 'Mazzolina Pizzeria et Restaurant', 'La Pastasciutta', 'Marcello Saint-Pierre', 'Toto Bello Pizzas', 'PIZZA CAP'], 'formatted_address': ['16 Rue Emile Cartailhac, 31000 Toulouse, France', '4 Rue Castellane, 31000 Toulouse, France', '2 Pl. des Carmes, 31000 Toulouse, France', '9 Pl. du Capitole, 31000 Toulouse, France', '26 Rue du Languedoc, 31000 Toulouse, France', '14-16 Rue de la Colombette, 31000 Toulouse, France', '35Bis Rue Gabriel Péri, 31000 Toulouse, France', '2 Rue Pargaminières, 31000 Toulouse, France', '23 Bd Jean Brunhes, 31300 Toulouse, France', '3 Av. Paul Séjourné, 31000 Toulouse, France'], 'lat': [43.6075228, 43.6048929, 43.5977082, 43.6039846, 43.5964068, 43.6045329, 43.6062834, 43.6040015, 43.6024277, 43.6062683], 'lng': [1.440301, 1.4502078, 1.4452875, 1.4427967, 1.4457416, 1.4511058, 1.4548365, 1.4363777, 1.4205495, 1.4280102], 'photo_reference': ['AVzFdbmxP_kOiTARTWQaudc1KaDPpcUEnrgxsYxA_V-BRZndYZK4j69vAH7wgNG7XjJNwtst7AmOX9Epqg43u4a8r5dOIUfNKJQ0qiuLYQVv8xousOxrgum6m5OL8B4u9Od3JkcsG1pnP3ugKODdgEqdm3tNmttaIWbTlsDlYWFueOr_KHKn', 'AVzFdbnxUP6L2OrpCp3isk-AC_8byxRH6kFOXe1tznEtgVvB_TFzIQXroqJev_9z652TYN5FVTr4x2FDixL2BTMDzmXXgIIUDWrPQRwY2f2W9hsoHarFfx48LFpVQ2bCG9ARbUP2rVlD8yHzHNhjT3LfcmRFRydo8RYTxvjA7x0eEcW96MbF', 'AVzFdbm2bYQ8DGOr-FhFM0MyN90lPfgwUaWmKVkFpoeytB9u5ll3C7pALxe0sL7cdSenHQUtWk-FWKi0VM_1pXU87fQBhtWZIWvnqwJutjhk7sqe0bqYsgL7MqKDqLRcSFFpBrQLqbv5DJvX4cm7kOx7wNVMTLM-rtmzhTWtELW3vyLuXAfQ', 'AVzFdbnG0N68tEpUpBq9xTVhd7b5MMKaAM6004MXq8EL_gUQWuRJnV-wSY-27FYpEiq3AG9BPEN9OWE9F6DvbRBN0_q51RZe6O1efXkzEzWuXPIcb6YYVlHvFn3LhDYaiRTYX2ETLoWYeUeiIwK9QVnV8gvG_xi9NYxPapBlK9OJDYy6kItn', 'AVzFdbkxr-O8Imcq9rgPsn-wLtLs7hA2g5B5-XBHrPeTiO1UI3JlmkI8romNDYFe6yngWEab5z7dIm_sTFWVlVMu9COhFJQu8PL43A0sw7zrOZ1yVDImm8OWatnyYke__wOKBfZspbl05QUe8chnYiZOMTfU82IFQl1zESI7WmycO8rIvjqR', 'AVzFdblWGRMVRkb2R8uvIkE9Bn6PZh8ZqKvz00O5t0ESg0Gwamxq907hBEsmrkjvuHkixJWGbigTiEHJ5zMLGluj-mABu6OyL5RkzOl1L54ZzkliKknUyGLH1Eb0oXEZl-v_B1mgZ3L0AB4qbUzasqwQE5e_F6vHxsu7lfn3j3TI8eejG1Kk', 'AVzFdbldtWraqXQ3fDujJ6VwSOfdw_dlQh5z9xNE_V-WrOkpLFf0KwuX2GIQlW8QIgVMrNru73v9LOiJk4Jpb1aVcFkzIoonlcEjcqSIHI1W4co1e_jK7hvWO2xeOC2TDl7kOAxpguEhYhanBJAmWtZraa7hWe-PLoh9YzPcldlD-RBQ-VLc', 'AVzFdbnZFNAqy4bc2vTarMAM-AlIDq-0X4q7x0zcPxeNa4dWJxy0wF-nZODCey2JDgitsi2QPwYEpRvXCFyxGbYkpJFN-u_Gp-zTJvPLIWPBgZXRbVkVSwskiAoBLqSKq_f3SfYJuKWlmcXD_pnTdx2MFk7-hPVakBPjaMGu7aHwFhAOSZoo', 'AVzFdbl2qTg0WxuQc-FuaP3SIcyyZMxw4-vAjOfntyGnCd7JneTb_Dn0KRIFhCDZ9ARZjhfsahrwCpCVymy6rZ-nl4KXTd_92ZPkZj9un8yrZxxVZUg3BttkfTrNx_Xr1ICAJpMSMvlMpnerNP6XeFIkoYclnDE09k45GTSeJNs0v4sDHZUy', 'AVzFdbk9EurwbV-jww9S3zjD1bngQpDQuczErS3eIleKTheOkI_IoYCzqSb46wyG5s0XrLnhRw-AWyrUYtdh7qrnk-wJbP6GSfcM5joZAIWcvi6uKJy1HP4cK-464EoibElrgX3zOacjKUVM3y2X9SX-S4mAOF1IZ9aQ3O8dAaoG_YGEtgsV'], 'rating': [4.8, 4.4, 4.2, 4, 3.9, 4.7, 4.5, 4.5, 4.7, 4.3], 'user_ratings_total': [358, 3841, 376, 2084, 450, 1030, 2115, 670, 887, 973], 'types': [['meal_takeaway', 'restaurant', 'food', 'point_of_interest', 'establishment'], ['meal_takeaway', 'restaurant', 'food', 'point_of_interest', 'establishment'], ['meal_delivery', 'restaurant', 'food', 'point_of_interest', 'establishment'], ['night_club', 'meal_delivery', 'meal_takeaway', 'bar', 'restaurant', 'food', 'point_of_interest', 'establishment'], ['restaurant', 'food', 'point_of_interest', 'establishment'], ['meal_takeaway', 'restaurant', 'food', 'point_of_interest', 'establishment'], ['meal_takeaway', 'restaurant', 'food', 'point_of_interest', 'establishment'], ['restaurant', 'food', 'point_of_interest', 'establishment'], ['meal_delivery', 'meal_takeaway', 'restaurant', 'food', 'point_of_interest', 'establishment'], ['meal_delivery', 'meal_takeaway', 'restaurant', 'food', 'point_of_interest', 'establishment']]}\n"
     ]
    }
   ],
   "execution_count": 46
  },
  {
   "cell_type": "code",
   "metadata": {
    "ExecuteTime": {
     "end_time": "2025-01-31T09:30:51.151353Z",
     "start_time": "2025-01-31T09:30:51.147684Z"
    }
   },
   "source": [
    "df = pd.DataFrame(dict_adresses)"
   ],
   "outputs": [],
   "execution_count": 41
  },
  {
   "cell_type": "code",
   "metadata": {
    "ExecuteTime": {
     "end_time": "2025-01-31T09:30:51.178824Z",
     "start_time": "2025-01-31T09:30:51.173133Z"
    }
   },
   "source": [
    "# Informations de connexion\n",
    "DATABASE_TYPE = 'postgresql'\n",
    "DBAPI = 'psycopg2'\n",
    "HOST = 'localhost'\n",
    "PORT = 5432\n",
    "USER = 'postgres'\n",
    "PASSWORD = 'Legnome13$'\n",
    "DATABASE = 'search_and_go'\n",
    "\n",
    "# Chaîne de connexion\n",
    "engine = create_engine(f\"{DATABASE_TYPE}+{DBAPI}://{USER}:{PASSWORD}@{HOST}:{PORT}/{DATABASE}\")\n"
   ],
   "outputs": [],
   "execution_count": 42
  },
  {
   "metadata": {
    "ExecuteTime": {
     "end_time": "2025-01-31T09:30:51.247471Z",
     "start_time": "2025-01-31T09:30:51.200725Z"
    }
   },
   "cell_type": "code",
   "source": [
    "# Convertir la colonne \"name\" en liste\n",
    "id_list = df[\"restaurant_id\"].tolist()\n",
    "\n",
    "# Générer les paramètres dynamiquement (:name0, :name1, etc.)\n",
    "param_dict = {f\"restaurant_id{i}\": id for i, id in enumerate(id_list)}\n",
    "placeholders = \", \".join(f\":restaurant_id{i}\" for i in range(len(id_list)))\n",
    "\n",
    "# Requête SQL avec IN\n",
    "query = text(f\"SELECT * FROM restaurants WHERE restaurant_id IN ({placeholders})\")\n",
    "\n",
    "# Exécution de la requête\n",
    "with engine.connect() as connection:\n",
    "    result = connection.execute(query, param_dict)\n",
    "    restaurants = result.fetchall()\n",
    "\n",
    "restaurants = pd.DataFrame(restaurants)\n",
    "if len(restaurants) != 0:\n",
    "    restaurants = set(restaurants[\"restaurant_id\"].unique())  # Convertir en ensemble d'IDs\n",
    "df_push = df.loc[~df[\"restaurant_id\"].isin(restaurants)]  # Filtrer correctement"
   ],
   "outputs": [],
   "execution_count": 43
  },
  {
   "cell_type": "code",
   "metadata": {
    "ExecuteTime": {
     "end_time": "2025-01-31T09:30:51.277110Z",
     "start_time": "2025-01-31T09:30:51.263993Z"
    }
   },
   "source": "df_push.to_sql(name='restaurants', con=engine, if_exists = 'append', index=False)",
   "outputs": [
    {
     "data": {
      "text/plain": [
       "0"
      ]
     },
     "execution_count": 44,
     "metadata": {},
     "output_type": "execute_result"
    }
   ],
   "execution_count": 44
  },
  {
   "metadata": {
    "ExecuteTime": {
     "end_time": "2025-01-31T15:39:08.782609Z",
     "start_time": "2025-01-31T15:39:08.779247Z"
    }
   },
   "cell_type": "code",
   "source": "bot = Robot_bistro()",
   "outputs": [],
   "execution_count": 48
  },
  {
   "metadata": {
    "ExecuteTime": {
     "end_time": "2025-01-31T16:03:08.284012Z",
     "start_time": "2025-01-31T16:03:07.590198Z"
    }
   },
   "cell_type": "code",
   "source": "bot.talk(\"ca va\")",
   "outputs": [
    {
     "data": {
      "text/plain": [
       "'Ça va bien, merci ! Et toi ?\\n'"
      ]
     },
     "execution_count": 51,
     "metadata": {},
     "output_type": "execute_result"
    }
   ],
   "execution_count": 51
  },
  {
   "metadata": {
    "ExecuteTime": {
     "end_time": "2025-01-31T16:03:37.489888Z",
     "start_time": "2025-01-31T16:03:37.486376Z"
    }
   },
   "cell_type": "code",
   "source": "test = bot.gethistory()",
   "outputs": [],
   "execution_count": 53
  },
  {
   "metadata": {
    "ExecuteTime": {
     "end_time": "2025-01-31T16:03:52.984225Z",
     "start_time": "2025-01-31T16:03:52.978855Z"
    }
   },
   "cell_type": "code",
   "source": "test[3]",
   "outputs": [
    {
     "data": {
      "text/plain": [
       "parts {\n",
       "  text: \"Ça va bien, merci ! Et toi ?\\n\"\n",
       "}\n",
       "role: \"model\""
      ]
     },
     "execution_count": 56,
     "metadata": {},
     "output_type": "execute_result"
    }
   ],
   "execution_count": 56
  },
  {
   "metadata": {},
   "cell_type": "code",
   "outputs": [],
   "execution_count": null,
   "source": ""
  }
 ],
 "metadata": {
  "kernelspec": {
   "display_name": "base",
   "language": "python",
   "name": "python3"
  },
  "language_info": {
   "codemirror_mode": {
    "name": "ipython",
    "version": 3
   },
   "file_extension": ".py",
   "mimetype": "text/x-python",
   "name": "python",
   "nbconvert_exporter": "python",
   "pygments_lexer": "ipython3",
   "version": "3.9.13"
  }
 },
 "nbformat": 4,
 "nbformat_minor": 2
}
