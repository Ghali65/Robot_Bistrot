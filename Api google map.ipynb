{
 "cells": [
  {
   "cell_type": "markdown",
   "metadata": {},
   "source": [
    "Requêtage restaurant"
   ]
  },
  {
   "cell_type": "markdown",
   "metadata": {},
   "source": [
    "Requete API"
   ]
  },
  {
   "cell_type": "code",
   "execution_count": 50,
   "metadata": {},
   "outputs": [],
   "source": [
    "import requests\n",
    "from sqlalchemy import create_engine, text\n",
    "import pandas as pd\n",
    "from SQL_user import SQL_user\n",
    "\n",
    "\n",
    "with open('apikeyrm.txt', 'r') as file: #mettre clé api\n",
    "    API_KEY = file.read().strip()\n",
    "\n",
    "QUERY = 'cafeteria toulouse gramont'\n",
    "\n",
    "\n",
    "# URL de l'API Places\n",
    "\n",
    "url = f\"https://maps.googleapis.com/maps/api/place/textsearch/json?query={QUERY}&key={API_KEY}&sort_by=rating\"\n",
    "# Envoyer la requête\n",
    "\n",
    "response = requests.get(url)\n",
    "# data = response.json()\n",
    "data2 = response.json()"
   ]
  },
  {
   "cell_type": "code",
   "execution_count": 48,
   "metadata": {},
   "outputs": [],
   "source": [
    "sql_user= SQL_user()\n",
    "\n",
    "\n",
    "# Chaîne de connexion\n",
    "engine = sql_user.engine"
   ]
  },
  {
   "cell_type": "code",
   "execution_count": 51,
   "metadata": {},
   "outputs": [
    {
     "data": {
      "text/html": [
       "<div>\n",
       "<style scoped>\n",
       "    .dataframe tbody tr th:only-of-type {\n",
       "        vertical-align: middle;\n",
       "    }\n",
       "\n",
       "    .dataframe tbody tr th {\n",
       "        vertical-align: top;\n",
       "    }\n",
       "\n",
       "    .dataframe thead th {\n",
       "        text-align: right;\n",
       "    }\n",
       "</style>\n",
       "<table border=\"1\" class=\"dataframe\">\n",
       "  <thead>\n",
       "    <tr style=\"text-align: right;\">\n",
       "      <th></th>\n",
       "    </tr>\n",
       "  </thead>\n",
       "  <tbody>\n",
       "  </tbody>\n",
       "</table>\n",
       "</div>"
      ],
      "text/plain": [
       "Empty DataFrame\n",
       "Columns: []\n",
       "Index: []"
      ]
     },
     "metadata": {},
     "output_type": "display_data"
    },
    {
     "data": {
      "text/plain": [
       "20"
      ]
     },
     "execution_count": 51,
     "metadata": {},
     "output_type": "execute_result"
    }
   ],
   "source": [
    "\n",
    "\n",
    "nb_result = 20\n",
    "\n",
    "# Utilisation de compréhension de dictionnaire pour créer le dictionnaire de la query\n",
    "dict_adresses = {\n",
    "    'restaurant_id': [result['name'] + str(result['geometry']['location']['lat']) for result in data2['results'][:nb_result]],\n",
    "    'name' : [result['name'] for result in data2['results'][:nb_result]],\n",
    "    'formatted_address': [result['formatted_address'] for result in data2['results'][:nb_result]],\n",
    "    'lat': [result['geometry']['location']['lat'] for result in data2['results'][:nb_result]],\n",
    "    'lng' : [result['geometry']['location']['lng'] for result in data2['results'][:nb_result]],\n",
    "    'photo_reference' : [result['photos'][0]['photo_reference'] for result in data2['results'][:nb_result]],\n",
    "    'rating': [result['rating'] for result in data2['results'][:nb_result]],\n",
    "    'user_ratings_total' : [result['user_ratings_total'] for result in data2['results'][:nb_result]],\n",
    "}\n",
    "\n",
    "#creation dataframe de la query:\n",
    "\n",
    "df = pd.DataFrame(dict_adresses)\n",
    "#connection à postgrey SQL à modifier avec create_engine(url)\n",
    "engine = sql_user.engine\n",
    "\n",
    "#Convertir la colonne \"name\" en liste\n",
    "id_list = df[\"restaurant_id\"].tolist()\n",
    "\n",
    "\n",
    "#Générer les paramètres dynamiquement (:name0, :name1, etc.)\n",
    "param_dict = {f\"restaurant_id{i}\": id for i, id in enumerate(id_list)}\n",
    "placeholders = \", \".join(f\":restaurant_id{i}\" for i in range(len(id_list)))\n",
    "\n",
    "#Requête SQL avec IN\n",
    "query = text(f\"SELECT * FROM restaurants WHERE restaurant_id IN ({placeholders})\")\n",
    "\n",
    "#Exécution de la requête\n",
    "with engine.connect() as connection:\n",
    "    result = connection.execute(query, param_dict)\n",
    "    restaurants = result.fetchall()\n",
    "\n",
    "restaurants = pd.DataFrame(restaurants)\n",
    "display(restaurants)\n",
    "if len(restaurants) !=0 :\n",
    "    restaurants = set(restaurants[\"restaurant_id\"].unique())  # Convertir en ensemble d'IDs\n",
    "df_push = df.loc[~df[\"restaurant_id\"].isin(restaurants)]\n",
    "# Filtrer correctement\n",
    "\n",
    "df_push.to_sql(name='restaurants', con=engine, if_exists = 'append', index=False)"
   ]
  },
  {
   "cell_type": "markdown",
   "metadata": {},
   "source": [
    "verification et identification client"
   ]
  },
  {
   "cell_type": "code",
   "execution_count": 10,
   "metadata": {},
   "outputs": [],
   "source": [
    "#entrée utilisateur\n",
    "\n",
    "email = input('e-mail')\n",
    "\n",
    "secret_pass = input('Password')\n",
    "\n"
   ]
  },
  {
   "cell_type": "code",
   "execution_count": 103,
   "metadata": {},
   "outputs": [
    {
     "data": {
      "text/html": [
       "<div>\n",
       "<style scoped>\n",
       "    .dataframe tbody tr th:only-of-type {\n",
       "        vertical-align: middle;\n",
       "    }\n",
       "\n",
       "    .dataframe tbody tr th {\n",
       "        vertical-align: top;\n",
       "    }\n",
       "\n",
       "    .dataframe thead th {\n",
       "        text-align: right;\n",
       "    }\n",
       "</style>\n",
       "<table border=\"1\" class=\"dataframe\">\n",
       "  <thead>\n",
       "    <tr style=\"text-align: right;\">\n",
       "      <th></th>\n",
       "    </tr>\n",
       "  </thead>\n",
       "  <tbody>\n",
       "  </tbody>\n",
       "</table>\n",
       "</div>"
      ],
      "text/plain": [
       "Empty DataFrame\n",
       "Columns: []\n",
       "Index: []"
      ]
     },
     "metadata": {},
     "output_type": "display_data"
    },
    {
     "data": {
      "text/plain": [
       "'Mail ou mot de passe incorrect'"
      ]
     },
     "metadata": {},
     "output_type": "display_data"
    },
    {
     "data": {
      "text/html": [
       "<div>\n",
       "<style scoped>\n",
       "    .dataframe tbody tr th:only-of-type {\n",
       "        vertical-align: middle;\n",
       "    }\n",
       "\n",
       "    .dataframe tbody tr th {\n",
       "        vertical-align: top;\n",
       "    }\n",
       "\n",
       "    .dataframe thead th {\n",
       "        text-align: right;\n",
       "    }\n",
       "</style>\n",
       "<table border=\"1\" class=\"dataframe\">\n",
       "  <thead>\n",
       "    <tr style=\"text-align: right;\">\n",
       "      <th></th>\n",
       "      <th>id</th>\n",
       "      <th>nom</th>\n",
       "      <th>prenom</th>\n",
       "      <th>mail</th>\n",
       "      <th>password</th>\n",
       "    </tr>\n",
       "  </thead>\n",
       "  <tbody>\n",
       "    <tr>\n",
       "      <th>0</th>\n",
       "      <td>1</td>\n",
       "      <td>Martin</td>\n",
       "      <td>Jean</td>\n",
       "      <td>jean.martin@test.com</td>\n",
       "      <td>@test.com</td>\n",
       "    </tr>\n",
       "  </tbody>\n",
       "</table>\n",
       "</div>"
      ],
      "text/plain": [
       "   id     nom prenom                  mail   password\n",
       "0   1  Martin   Jean  jean.martin@test.com  @test.com"
      ]
     },
     "metadata": {},
     "output_type": "display_data"
    },
    {
     "data": {
      "text/plain": [
       "'affichage page principale'"
      ]
     },
     "metadata": {},
     "output_type": "display_data"
    }
   ],
   "source": [
    "#verification idenfication\n",
    "\n",
    "\n",
    "identification = 0\n",
    "\n",
    "while identification == 0:\n",
    "\n",
    "    email = input('e-mail')\n",
    "    secret_pass = input('Password')\n",
    "    query = text(\"SELECT * FROM user WHERE mail = :email AND password = :secret_pass\")\n",
    "        #Exécution de la requête\n",
    "    with engine.connect() as connection:\n",
    "        result = connection.execute(query, {'email': email, 'secret_pass': secret_pass})\n",
    "        identification = result.fetchall()\n",
    "    identification = pd.DataFrame(identification)\n",
    "    display(identification)\n",
    "    if len(identification) == 0 :\n",
    "        display('Mail ou mot de passe incorrect')\n",
    "        identification = 0\n",
    "    else :\n",
    "        identification = len(identification)\n",
    "\n",
    "display('affichage page principale')\n",
    "\n",
    "    "
   ]
  },
  {
   "cell_type": "code",
   "execution_count": 139,
   "metadata": {},
   "outputs": [
    {
     "data": {
      "text/plain": [
       "[True, True, True, True]"
      ]
     },
     "execution_count": 139,
     "metadata": {},
     "output_type": "execute_result"
    }
   ],
   "source": [
    "import re\n",
    "\n",
    "new_user_mail = input('e-mail')\n",
    "new_user_name = input('Name')\n",
    "new_user_lastname = input('Lastname')\n",
    "new_user_secret_pass = input('Password')\n",
    "\n",
    "def checking(new_user_mail, new_user_name, new_user_lastname, new_user_secret_pass):\n",
    "    #regex de qui vont servir de verification\n",
    "    regex_mail = r'^[a-zA-Z0-9._%+-]+@[a-zA-Z0-9.-]+\\.[a-zA-Z]{2,}$'\n",
    "    regex_password = r'^(?=.*[a-zàâäéèêëîïôöùûüÿçáéíñóúü])(?=.*[A-ZÀÂÄÉÈÊËÎÏÔÖÙÛÜŸÇÁÉÍÑÓÚÜ])(?=.*\\d)(?=.*[@$!%*?&_\\\"\\'\\'])[A-Za-zàâäéèêëîïôöùûüÿçáéíñóúüÀÂÄÉÈÊËÎÏÔÖÙÛÜŸÇÁÉÍÑÓÚÜ\\d@$!%*?&_\\\"\\'\\']{8,}$'\n",
    "    query = text(\"SELECT * FROM user WHERE mail = :new_user_mail\")\n",
    "    with engine.connect() as connection:\n",
    "            result = connection.execute(query, {'new_user_mail': new_user_mail})\n",
    "            creation = result.fetchall()\n",
    "    creation = pd.DataFrame(creation)\n",
    "    if len(creation) == 0:\n",
    "        creation.to_sql(name='user', con=engine, if_exists = 'append', index=False)\n",
    "    else :\n",
    "        return \"email déjà connu merci de vous identifier\"  \n",
    "    if re.match(regex_mail, new_user_mail):\n",
    "        new_user_mail = True\n",
    "        if len(new_user_name) !=0:\n",
    "            new_user_name = True\n",
    "            if len(new_user_lastname) !=0:\n",
    "                new_user_lastname = True\n",
    "                if re.match(regex_password, new_user_secret_pass):\n",
    "                    new_user_secret_pass = True\n",
    "                else:\n",
    "                    new_user_secret_pass = False\n",
    "            else:\n",
    "                new_user_lastname = False\n",
    "        else:\n",
    "            new_user_name = False  \n",
    "    else:\n",
    "        new_user_mail = False\n",
    "    chek_in = [new_user_mail, new_user_name, new_user_lastname, new_user_secret_pass]\n",
    "    return chek_in\n",
    "\n",
    "checking(new_user_mail, new_user_name, new_user_lastname, new_user_secret_pass)\n",
    "\n"
   ]
  },
  {
   "cell_type": "code",
   "execution_count": 11,
   "metadata": {},
   "outputs": [
    {
     "name": "stdout",
     "output_type": "stream",
     "text": [
      "Mot de passe valide\n"
     ]
    }
   ],
   "source": [
    "import re\n",
    "\n",
    "# Exemple de mot de passe à tester\n",
    "password = '\"rèsT\"658!'\n",
    "\n",
    "# Expression régulière pour valider un mot de passe\n",
    "regex = r'^(?=.*[a-zàâäéèêëîïôöùûüÿçáéíñóúü])(?=.*[A-ZÀÂÄÉÈÊËÎÏÔÖÙÛÜŸÇÁÉÍÑÓÚÜ])(?=.*\\d)(?=.*[@$!%*?&_\\\"\\'\\'])[A-Za-zàâäéèêëîïôöùûüÿçáéíñóúüÀÂÄÉÈÊËÎÏÔÖÙÛÜŸÇÁÉÍÑÓÚÜ\\d@$!%*?&_\\\"\\'\\']{8,}$'\n",
    "\n",
    "# Vérification du mot de passe\n",
    "if re.match(regex, password):\n",
    "    print(\"Mot de passe valide\")\n",
    "else:\n",
    "    print(\"Mot de passe invalide\")\n"
   ]
  },
  {
   "cell_type": "code",
   "execution_count": 26,
   "metadata": {},
   "outputs": [],
   "source": [
    "class Checker:\n",
    "    email_regex = r'^[a-zA-Z0-9._%+-]+@[a-zA-Z0-9.-]+\\.[a-zA-Z]{2,}$'\n",
    "    password_regex = r'^(?=.*[a-zàâäéèêëîïôöùûüÿçáéíñóúü])(?=.*[A-ZÀÂÄÉÈÊËÎÏÔÖÙÛÜŸÇÁÉÍÑÓÚÜ])(?=.*\\d)(?=.*[@$!%*?&_\\\"\\'\\'])[A-Za-zàâäéèêëîïôöùûüÿçáéíñóúüÀÂÄÉÈÊËÎÏÔÖÙÛÜŸÇÁÉÍÑÓÚÜ\\d@$!%*?&_\\\"\\'\\']{8,}$'\n",
    "\n",
    "    def __init__(self, engine):\n",
    "        self.engine = engine\n",
    "\n",
    "    def is_email_known(self, email):\n",
    "        query = text(\"SELECT COUNT(*) FROM user WHERE email = :email\")\n",
    "        with self.engine.connect() as connection:\n",
    "            result = connection.execute(query, {'email': email})\n",
    "            count = result.scalar()\n",
    "        return count > 0\n",
    "\n",
    "    @staticmethod\n",
    "    def is_valid_email(email):\n",
    "        return re.match(Checker.email_regex, email) is not None\n",
    "\n",
    "    @staticmethod\n",
    "    def is_valid_password(password):\n",
    "        return re.match(Checker.password_regex, password) is not None\n",
    "\n",
    "    @staticmethod\n",
    "    def is_valid_name(name):\n",
    "        return bool(name) and all(char.isalpha() or char.isspace() for char in name)\n",
    "\n",
    "    @staticmethod\n",
    "    def is_valid_lastname(lastname):\n",
    "        return bool(lastname) and all(char.isalpha() or char.isspace() for char in lastname)\n",
    "\n",
    "    def validate_user(self, email, password, name, lastname):\n",
    "        if not self.is_valid_email(email):\n",
    "            print(\"Mail invalide\")\n",
    "            return False\n",
    "        if not self.is_valid_password(password):\n",
    "            print(\"Mot de passe invalide merci de renseigner minimum 8 caractères dont un chiffre, majuscule et symbole\")\n",
    "            return False\n",
    "        if not self.is_valid_name(name):\n",
    "            print(\"Name invalid\")\n",
    "            return \n",
    "        if not self.is_valid_lastname(lastname):\n",
    "            print(\"Lastname invalid\")\n",
    "            return \n",
    "        return True\n",
    "    # alternatif\n",
    "    def val(self, email, password, name, lastname):\n",
    "        return not self.is_valid_email(email) and not self.is_valid_password(password) and not self.is_valid_name(name) and not self.is_valid_lastname(lastname)\n",
    "\n",
    "    @staticmethod\n",
    "    def add_user(email, password, name, lastname):\n",
    "        dict_user = {'nom': [name], 'prenom': [lastname], 'mail': [email], 'password': [password]}\n",
    "        df_user = pd.DataFrame(dict_user)\n",
    "        df_user.to_sql(name='user', con=engine, if_exists = 'append', index=False)\n",
    "    \n",
    "    \n",
    "    def is_authentificate(self, email, password):\n",
    "        query = text(\"SELECT COUNT(*) FROM user WHERE mail = :email and password = :password\")\n",
    "        with self.engine.connect() as connection:\n",
    "            result = connection.execute(query, {'email': email, 'password': password})\n",
    "            count = result.scalar()\n",
    "        return count > 0\n",
    "\n",
    "# Exemple d'utilisation\n",
    "email = \"r.meson@test.com\"\n",
    "password = \"WCS_Rémi_2025\"\n",
    "name = \"Jean\"\n",
    "lastname = \"Dupont\"\n",
    "\n"
   ]
  },
  {
   "cell_type": "code",
   "execution_count": 2,
   "metadata": {},
   "outputs": [],
   "source": [
    "# Exemple d'utilisation\n",
    "email = \"r.meson@test.com\"\n",
    "password = \"WCS_Rémi_2025\"\n",
    "name = \"Jean\"\n",
    "lastname = \"Dupont\"\n",
    "\n"
   ]
  },
  {
   "cell_type": "code",
   "execution_count": null,
   "metadata": {},
   "outputs": [],
   "source": []
  },
  {
   "cell_type": "code",
   "execution_count": 3,
   "metadata": {},
   "outputs": [
    {
     "data": {
      "text/plain": [
       "False"
      ]
     },
     "execution_count": 3,
     "metadata": {},
     "output_type": "execute_result"
    }
   ],
   "source": [
    "from checker import Checker\n",
    "\n",
    "checker= Checker()\n",
    "\n",
    "checker.is_email_known(email)"
   ]
  },
  {
   "cell_type": "code",
   "execution_count": 35,
   "metadata": {},
   "outputs": [
    {
     "name": "stdout",
     "output_type": "stream",
     "text": [
      "Mail déjà connu merci de vous identifier\n"
     ]
    }
   ],
   "source": [
    "\n",
    "\n",
    "if checker.is_email_known(email):\n",
    "    print(\"Mail déjà connu merci de vous identifier\")\n",
    "else:\n",
    "    if checker.validate_user(email, password, name, lastname):\n",
    "        checker.add_user(email, password, name, lastname)"
   ]
  },
  {
   "cell_type": "code",
   "execution_count": 3,
   "metadata": {},
   "outputs": [
    {
     "name": "stdout",
     "output_type": "stream",
     "text": [
      "Defaulting to user installation because normal site-packages is not writeable\n",
      "Collecting psycopg2-binary\n",
      "  Downloading psycopg2_binary-2.9.10-cp313-cp313-win_amd64.whl.metadata (4.8 kB)\n",
      "Downloading psycopg2_binary-2.9.10-cp313-cp313-win_amd64.whl (2.6 MB)\n",
      "   ---------------------------------------- 0.0/2.6 MB ? eta -:--:--\n",
      "   ------------------------------------ --- 2.4/2.6 MB 11.9 MB/s eta 0:00:01\n",
      "   ---------------------------------------- 2.6/2.6 MB 11.5 MB/s eta 0:00:00\n",
      "Installing collected packages: psycopg2-binary\n",
      "Successfully installed psycopg2-binary-2.9.10\n",
      "Note: you may need to restart the kernel to use updated packages.\n"
     ]
    },
    {
     "name": "stderr",
     "output_type": "stream",
     "text": [
      "\n",
      "[notice] A new release of pip is available: 24.3.1 -> 25.0\n",
      "[notice] To update, run: python.exe -m pip install --upgrade pip\n"
     ]
    }
   ],
   "source": [
    "pip install psycopg2-binary"
   ]
  }
 ],
 "metadata": {
  "kernelspec": {
   "display_name": "Python 3",
   "language": "python",
   "name": "python3"
  },
  "language_info": {
   "codemirror_mode": {
    "name": "ipython",
    "version": 3
   },
   "file_extension": ".py",
   "mimetype": "text/x-python",
   "name": "python",
   "nbconvert_exporter": "python",
   "pygments_lexer": "ipython3",
   "version": "3.12.3"
  }
 },
 "nbformat": 4,
 "nbformat_minor": 2
}
